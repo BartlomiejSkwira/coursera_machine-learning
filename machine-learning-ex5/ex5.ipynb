{
 "cells": [
  {
   "cell_type": "markdown",
   "metadata": {},
   "source": [
    "## Problem:  \n",
    "predict the amount of water flowing out of a dam \n",
    "using the change of water level in a reservoir"
   ]
  },
  {
   "cell_type": "code",
   "execution_count": 1,
   "metadata": {},
   "outputs": [],
   "source": [
    "#load libs\n",
    "import numpy as np\n",
    "import pandas as pd\n",
    "import matplotlib.pyplot as plt\n",
    "from scipy.io import loadmat\n",
    "from scipy.optimize import fmin_cg"
   ]
  },
  {
   "cell_type": "code",
   "execution_count": 2,
   "metadata": {},
   "outputs": [],
   "source": [
    "#config libs\n",
    "pd.set_option('max_rows', 5)\n",
    "%matplotlib inline\n",
    "plt.rcParams['figure.figsize'] = 8, 4"
   ]
  },
  {
   "cell_type": "code",
   "execution_count": 3,
   "metadata": {},
   "outputs": [
    {
     "data": {
      "text/plain": [
       "{'__header__': b'MATLAB 5.0 MAT-file, Platform: GLNXA64, Created on: Fri Nov  4 22:27:26 2011',\n",
       " '__version__': '1.0',\n",
       " '__globals__': [],\n",
       " 'X': array([[-15.93675813],\n",
       "        [-29.15297922],\n",
       "        [ 36.18954863],\n",
       "        [ 37.49218733],\n",
       "        [-48.05882945],\n",
       "        [ -8.94145794],\n",
       "        [ 15.30779289],\n",
       "        [-34.70626581],\n",
       "        [  1.38915437],\n",
       "        [-44.38375985],\n",
       "        [  7.01350208],\n",
       "        [ 22.76274892]]),\n",
       " 'y': array([[ 2.13431051],\n",
       "        [ 1.17325668],\n",
       "        [34.35910918],\n",
       "        [36.83795516],\n",
       "        [ 2.80896507],\n",
       "        [ 2.12107248],\n",
       "        [14.71026831],\n",
       "        [ 2.61418439],\n",
       "        [ 3.74017167],\n",
       "        [ 3.73169131],\n",
       "        [ 7.62765885],\n",
       "        [22.7524283 ]]),\n",
       " 'Xtest': array([[-33.31800399],\n",
       "        [-37.91216403],\n",
       "        [-51.20693795],\n",
       "        [ -6.13259585],\n",
       "        [ 21.26118327],\n",
       "        [-40.31952949],\n",
       "        [-14.54153167],\n",
       "        [ 32.55976024],\n",
       "        [ 13.39343255],\n",
       "        [ 44.20988595],\n",
       "        [ -1.14267768],\n",
       "        [-12.76686065],\n",
       "        [ 34.05450539],\n",
       "        [ 39.22350028],\n",
       "        [  1.97449674],\n",
       "        [ 29.6217551 ],\n",
       "        [-23.66962971],\n",
       "        [ -9.01180139],\n",
       "        [-55.94057091],\n",
       "        [-35.70859752],\n",
       "        [  9.51020533]]),\n",
       " 'ytest': array([[ 3.31688953],\n",
       "        [ 5.39768952],\n",
       "        [ 0.13042984],\n",
       "        [ 6.1925982 ],\n",
       "        [17.08848712],\n",
       "        [ 0.79950805],\n",
       "        [ 2.82479183],\n",
       "        [28.62123334],\n",
       "        [17.04639081],\n",
       "        [55.38437334],\n",
       "        [ 4.07936733],\n",
       "        [ 8.27039793],\n",
       "        [31.32355102],\n",
       "        [39.15906103],\n",
       "        [ 8.08727989],\n",
       "        [24.11134389],\n",
       "        [ 2.4773548 ],\n",
       "        [ 6.56606472],\n",
       "        [ 6.0380888 ],\n",
       "        [ 4.69273956],\n",
       "        [10.83004606]]),\n",
       " 'Xval': array([[-16.74653578],\n",
       "        [-14.57747075],\n",
       "        [ 34.51575866],\n",
       "        [-47.01007574],\n",
       "        [ 36.97511905],\n",
       "        [-40.68611002],\n",
       "        [ -4.47201098],\n",
       "        [ 26.53363489],\n",
       "        [-42.7976831 ],\n",
       "        [ 25.37409938],\n",
       "        [-31.10955398],\n",
       "        [ 27.31176864],\n",
       "        [ -3.26386201],\n",
       "        [ -1.81827649],\n",
       "        [-40.7196624 ],\n",
       "        [-50.01324365],\n",
       "        [-17.41177155],\n",
       "        [  3.5881937 ],\n",
       "        [  7.08548026],\n",
       "        [ 46.28236902],\n",
       "        [ 14.61228909]]),\n",
       " 'yval': array([[ 4.17020201e+00],\n",
       "        [ 4.06726280e+00],\n",
       "        [ 3.18730676e+01],\n",
       "        [ 1.06236562e+01],\n",
       "        [ 3.18360213e+01],\n",
       "        [ 4.95936972e+00],\n",
       "        [ 4.45159880e+00],\n",
       "        [ 2.22763185e+01],\n",
       "        [-4.38738274e-05],\n",
       "        [ 2.05038016e+01],\n",
       "        [ 3.85834476e+00],\n",
       "        [ 1.93650529e+01],\n",
       "        [ 4.88376281e+00],\n",
       "        [ 1.10971588e+01],\n",
       "        [ 7.46170827e+00],\n",
       "        [ 1.47693464e+00],\n",
       "        [ 2.71916388e+00],\n",
       "        [ 1.09269007e+01],\n",
       "        [ 8.34871235e+00],\n",
       "        [ 5.27819280e+01],\n",
       "        [ 1.33573396e+01]])}"
      ]
     },
     "execution_count": 3,
     "metadata": {},
     "output_type": "execute_result"
    }
   ],
   "source": [
    "#load data from .mat file\n",
    "data = loadmat('ex5data1.mat')\n",
    "data"
   ]
  },
  {
   "cell_type": "code",
   "execution_count": 4,
   "metadata": {},
   "outputs": [
    {
     "name": "stdout",
     "output_type": "stream",
     "text": [
      "X_train shape: (12, 1) y_train shape: (12, 1)\n",
      "X_test shape: (21, 1) y_test shape: (21, 1)\n",
      "X_valid shape: (21, 1) y_valid shape: (21, 1)\n"
     ]
    }
   ],
   "source": [
    "#initialize train, validation and test data\n",
    "X_train, y_train = data['X'], data['y']\n",
    "X_test, y_test = data['Xtest'], data['ytest']\n",
    "X_valid, y_valid = data['Xval'], data['yval']\n",
    "print(\"X_train shape:\", X_train.shape, \"y_train shape:\", y_train.shape)\n",
    "print(\"X_test shape:\", X_test.shape, \"y_test shape:\", y_test.shape)\n",
    "print(\"X_valid shape:\", X_valid.shape, \"y_valid shape:\", y_valid.shape)"
   ]
  },
  {
   "cell_type": "code",
   "execution_count": 5,
   "metadata": {},
   "outputs": [
    {
     "data": {
      "image/png": "[encoded data removed]",
      "text/plain": [
       "<Figure size 576x288 with 1 Axes>"
      ]
     },
     "metadata": {
      "needs_background": "light"
     },
     "output_type": "display_data"
    }
   ],
   "source": [
    "#visualize train data\n",
    "def draw_data(X, y):\n",
    "    #plt.scatter(x=X, y=y, marker='x', c='red')\n",
    "    plt.plot(X, y, 'rx')\n",
    "    plt.xlabel('Change in water level (x)')\n",
    "    plt.ylabel('Water flowing out of the dam (y)')\n",
    "    plt.grid(True)\n",
    "    plt.show()\n",
    "    \n",
    "draw_data(X_train, y_train)"
   ]
  },
  {
   "cell_type": "code",
   "execution_count": 6,
   "metadata": {},
   "outputs": [],
   "source": [
    "#set model variables\n",
    "theta_initial = np.array([1, 1])\n",
    "lmbda = 1"
   ]
  },
  {
   "cell_type": "code",
   "execution_count": 7,
   "metadata": {
    "scrolled": false
   },
   "outputs": [
    {
     "data": {
      "text/plain": [
       "array([[  1.        , -15.93675813],\n",
       "       [  1.        , -29.15297922],\n",
       "       [  1.        ,  36.18954863],\n",
       "       [  1.        ,  37.49218733],\n",
       "       [  1.        , -48.05882945],\n",
       "       [  1.        ,  -8.94145794],\n",
       "       [  1.        ,  15.30779289],\n",
       "       [  1.        , -34.70626581],\n",
       "       [  1.        ,   1.38915437],\n",
       "       [  1.        , -44.38375985],\n",
       "       [  1.        ,   7.01350208],\n",
       "       [  1.        ,  22.76274892]])"
      ]
     },
     "execution_count": 7,
     "metadata": {},
     "output_type": "execute_result"
    }
   ],
   "source": [
    "#insert intercept term into train data\n",
    "X_train_int = np.insert(X_train, 0, 1, axis=1)\n",
    "X_train_int"
   ]
  },
  {
   "cell_type": "code",
   "execution_count": 8,
   "metadata": {},
   "outputs": [
    {
     "data": {
      "text/plain": [
       "array([[  1.        , -33.31800399],\n",
       "       [  1.        , -37.91216403],\n",
       "       [  1.        , -51.20693795],\n",
       "       [  1.        ,  -6.13259585],\n",
       "       [  1.        ,  21.26118327],\n",
       "       [  1.        , -40.31952949],\n",
       "       [  1.        , -14.54153167],\n",
       "       [  1.        ,  32.55976024],\n",
       "       [  1.        ,  13.39343255],\n",
       "       [  1.        ,  44.20988595],\n",
       "       [  1.        ,  -1.14267768],\n",
       "       [  1.        , -12.76686065],\n",
       "       [  1.        ,  34.05450539],\n",
       "       [  1.        ,  39.22350028],\n",
       "       [  1.        ,   1.97449674],\n",
       "       [  1.        ,  29.6217551 ],\n",
       "       [  1.        , -23.66962971],\n",
       "       [  1.        ,  -9.01180139],\n",
       "       [  1.        , -55.94057091],\n",
       "       [  1.        , -35.70859752],\n",
       "       [  1.        ,   9.51020533]])"
      ]
     },
     "execution_count": 8,
     "metadata": {},
     "output_type": "execute_result"
    }
   ],
   "source": [
    "#insert intercept term into validation and test data\n",
    "X_valid_int = np.insert(X_valid, 0, 1, axis=1)\n",
    "X_test_int = np.insert(X_test, 0, 1, axis=1)\n",
    "X_test_int"
   ]
  },
  {
   "cell_type": "code",
   "execution_count": 9,
   "metadata": {},
   "outputs": [],
   "source": [
    "def h(X, theta):\n",
    "    \"\"\" hypothesis function \"\"\"\n",
    "    return np.dot(X, theta)"
   ]
  },
  {
   "cell_type": "code",
   "execution_count": 10,
   "metadata": {},
   "outputs": [
    {
     "data": {
      "text/plain": [
       "303.9931922202643"
      ]
     },
     "execution_count": 10,
     "metadata": {},
     "output_type": "execute_result"
    }
   ],
   "source": [
    "def costFunction(theta, X, y, lmbda):\n",
    "    m = X.shape[0]\n",
    "    hypothesis = h(X, theta).reshape((m, 1)) # pack each element in array \n",
    "    J = float(1/(2*m) * np.dot((hypothesis - y).T, (hypothesis - y)))\n",
    "    regularization = lmbda/(2*m) * np.dot(theta[1:], theta[1:])\n",
    "    \n",
    "    return J + regularization\n",
    "\n",
    "#expected cost 303.993\n",
    "costFunction(theta_initial, X_train_int, y_train, lmbda)"
   ]
  },
  {
   "cell_type": "code",
   "execution_count": 11,
   "metadata": {},
   "outputs": [
    {
     "data": {
      "text/plain": [
       "array([-15.30301567, 598.25074417])"
      ]
     },
     "execution_count": 11,
     "metadata": {},
     "output_type": "execute_result"
    }
   ],
   "source": [
    "def gradient(theta, X, y, lmbda):\n",
    "    m = X.shape[0]\n",
    "    hypothesis = h(X, theta).reshape((m, 1))\n",
    "    grad = float(1 / m) * np.dot((hypothesis - y).T, X)\n",
    "    regularization = float(lmbda / m) * theta\n",
    "    regularization[0] = 0 \n",
    "    \n",
    "    return (grad + regularization).flatten()\n",
    "\n",
    "#expected [-15.30; 598.250].\n",
    "gradient(theta_initial, X_train_int, y_train, lmbda)"
   ]
  },
  {
   "cell_type": "code",
   "execution_count": 12,
   "metadata": {
    "scrolled": true
   },
   "outputs": [],
   "source": [
    "def optimizeTheta(theta_initial, X, y, lmbda=0., print_output=True):\n",
    "    \"\"\"compute the optimal values of θ\"\"\"\n",
    "    theta_opt = fmin_cg(costFunction, \n",
    "                        x0=theta_initial, \n",
    "                        fprime=gradient, \n",
    "                        args=(X, y, lmbda),\n",
    "                        maxiter=1000,\n",
    "                        epsilon=1.49e-12,\n",
    "                        disp=print_output)\n",
    "    return theta_opt"
   ]
  },
  {
   "cell_type": "code",
   "execution_count": 13,
   "metadata": {},
   "outputs": [
    {
     "name": "stdout",
     "output_type": "stream",
     "text": [
      "Optimization terminated successfully.\n",
      "         Current function value: 22.373906\n",
      "         Iterations: 18\n",
      "         Function evaluations: 28\n",
      "         Gradient evaluations: 28\n"
     ]
    },
    {
     "data": {
      "text/plain": [
       "array([13.08790734,  0.36777925])"
      ]
     },
     "execution_count": 13,
     "metadata": {},
     "output_type": "execute_result"
    }
   ],
   "source": [
    "theta_opt = optimizeTheta(theta_initial, X_train_int, y_train, 0)\n",
    "theta_opt"
   ]
  },
  {
   "cell_type": "code",
   "execution_count": 14,
   "metadata": {
    "scrolled": true
   },
   "outputs": [
    {
     "data": {
      "image/png": "[encoded data removed]",
      "text/plain": [
       "<Figure size 576x288 with 1 Axes>"
      ]
     },
     "metadata": {
      "needs_background": "light"
     },
     "output_type": "display_data"
    }
   ],
   "source": [
    "plt.plot(X_train, h(X_train_int, theta_opt).flatten(), c='blue')\n",
    "draw_data(X_train, y_train)"
   ]
  },
  {
   "cell_type": "markdown",
   "metadata": {},
   "source": [
    "# Learning curves\n",
    "\n",
    "Print a chart that shows how error changes when the training set goes up. We need te have a matrix of: training set size (tss) 1 - error size, tss 2 - error size etc.. Reuse existing cost function and set lmbda to 0 so regularization == 0\n",
    "\n",
    "> When you are computing the training set error, make sure you compute it on the training subset (i.e., X(1:n,:) and y(1:n)) (instead of the entire training set). However, for the cross validation error, you should compute it over the entire cross validation set. "
   ]
  },
  {
   "cell_type": "code",
   "execution_count": 19,
   "metadata": {},
   "outputs": [
    {
     "data": {
      "image/png": "[encoded data removed]",
      "text/plain": [
       "<Figure size 576x360 with 1 Axes>"
      ]
     },
     "metadata": {
      "needs_background": "light"
     },
     "output_type": "display_data"
    }
   ],
   "source": [
    "def plotLearningCurve():\n",
    "    \"\"\"\n",
    "    Loop over first training point, then first 2 training points, then first 3 ...\n",
    "    and use each training-set-subset to find trained parameters.\n",
    "    With those parameters, compute the cost on that subset (Jtrain)\n",
    "    remembering that for Jtrain, lambda = 0 (even if you are using regularization).\n",
    "    Then, use the trained parameters to compute Jval on the entire validation set\n",
    "    again forcing lambda = 0 even if using regularization.\n",
    "    Store the computed errors, error_train and error_val and plot them.\n",
    "    \"\"\"\n",
    "    initial_theta = np.array([[1.],[1.]])\n",
    "    mym, error_train, error_val = [], [], []\n",
    "    for x in range(1,13,1):\n",
    "        train_subset = X_train_int[:x,:]\n",
    "        y_subset = y_train[:x]\n",
    "        mym.append(y_subset.shape[0])\n",
    "        fit_theta = optimizeTheta(initial_theta,train_subset,y_subset,lmbda=0.,print_output=False)\n",
    "        error_train.append(costFunction(fit_theta,train_subset,y_subset,lmbda=0.))\n",
    "        error_val.append(costFunction(fit_theta,X_valid_int,y_valid,lmbda=0.))\n",
    "        \n",
    "    plt.figure(figsize=(8,5))\n",
    "    plt.plot(mym,error_train,label='Train')\n",
    "    plt.plot(mym,error_val,label='Cross Validation')\n",
    "    plt.legend()\n",
    "    plt.title('Learning curve for linear regression')\n",
    "    plt.xlabel('Number of training examples')\n",
    "    plt.ylabel('Error')\n",
    "    plt.grid(True)\n",
    "    \n",
    "plotLearningCurve()"
   ]
  },
  {
   "cell_type": "code",
   "execution_count": null,
   "metadata": {},
   "outputs": [],
   "source": []
  }
 ],
 "metadata": {
  "kernelspec": {
   "display_name": "Python 3",
   "language": "python",
   "name": "python3"
  },
  "language_info": {
   "codemirror_mode": {
    "name": "ipython",
    "version": 3
   },
   "file_extension": ".py",
   "mimetype": "text/x-python",
   "name": "python",
   "nbconvert_exporter": "python",
   "pygments_lexer": "ipython3",
   "version": "3.7.2"
  }
 },
 "nbformat": 4,
 "nbformat_minor": 2
}
