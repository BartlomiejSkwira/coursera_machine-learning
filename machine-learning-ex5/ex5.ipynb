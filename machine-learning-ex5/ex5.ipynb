{
 "cells": [
  {
   "cell_type": "markdown",
   "metadata": {},
   "source": [
    "## Problem:  \n",
    "predict the amount of water flowing out of a dam \n",
    "using the change of water level in a reservoir"
   ]
  },
  {
   "cell_type": "code",
   "execution_count": 1,
   "metadata": {},
   "outputs": [],
   "source": [
    "#load libs\n",
    "import numpy as np\n",
    "import pandas as pd\n",
    "import matplotlib.pyplot as plt\n",
    "from scipy.io import loadmat\n",
    "from scipy.optimize import fmin_cg"
   ]
  },
  {
   "cell_type": "code",
   "execution_count": 2,
   "metadata": {},
   "outputs": [],
   "source": [
    "#config libs\n",
    "pd.set_option('max_rows', 5)\n",
    "%matplotlib inline\n",
    "plt.rcParams['figure.figsize'] = 8, 4"
   ]
  },
  {
   "cell_type": "code",
   "execution_count": 3,
   "metadata": {},
   "outputs": [
    {
     "data": {
      "text/plain": [
       "{'__header__': b'MATLAB 5.0 MAT-file, Platform: GLNXA64, Created on: Fri Nov  4 22:27:26 2011',\n",
       " '__version__': '1.0',\n",
       " '__globals__': [],\n",
       " 'X': array([[-15.93675813],\n",
       "        [-29.15297922],\n",
       "        [ 36.18954863],\n",
       "        [ 37.49218733],\n",
       "        [-48.05882945],\n",
       "        [ -8.94145794],\n",
       "        [ 15.30779289],\n",
       "        [-34.70626581],\n",
       "        [  1.38915437],\n",
       "        [-44.38375985],\n",
       "        [  7.01350208],\n",
       "        [ 22.76274892]]),\n",
       " 'y': array([[ 2.13431051],\n",
       "        [ 1.17325668],\n",
       "        [34.35910918],\n",
       "        [36.83795516],\n",
       "        [ 2.80896507],\n",
       "        [ 2.12107248],\n",
       "        [14.71026831],\n",
       "        [ 2.61418439],\n",
       "        [ 3.74017167],\n",
       "        [ 3.73169131],\n",
       "        [ 7.62765885],\n",
       "        [22.7524283 ]]),\n",
       " 'Xtest': array([[-33.31800399],\n",
       "        [-37.91216403],\n",
       "        [-51.20693795],\n",
       "        [ -6.13259585],\n",
       "        [ 21.26118327],\n",
       "        [-40.31952949],\n",
       "        [-14.54153167],\n",
       "        [ 32.55976024],\n",
       "        [ 13.39343255],\n",
       "        [ 44.20988595],\n",
       "        [ -1.14267768],\n",
       "        [-12.76686065],\n",
       "        [ 34.05450539],\n",
       "        [ 39.22350028],\n",
       "        [  1.97449674],\n",
       "        [ 29.6217551 ],\n",
       "        [-23.66962971],\n",
       "        [ -9.01180139],\n",
       "        [-55.94057091],\n",
       "        [-35.70859752],\n",
       "        [  9.51020533]]),\n",
       " 'ytest': array([[ 3.31688953],\n",
       "        [ 5.39768952],\n",
       "        [ 0.13042984],\n",
       "        [ 6.1925982 ],\n",
       "        [17.08848712],\n",
       "        [ 0.79950805],\n",
       "        [ 2.82479183],\n",
       "        [28.62123334],\n",
       "        [17.04639081],\n",
       "        [55.38437334],\n",
       "        [ 4.07936733],\n",
       "        [ 8.27039793],\n",
       "        [31.32355102],\n",
       "        [39.15906103],\n",
       "        [ 8.08727989],\n",
       "        [24.11134389],\n",
       "        [ 2.4773548 ],\n",
       "        [ 6.56606472],\n",
       "        [ 6.0380888 ],\n",
       "        [ 4.69273956],\n",
       "        [10.83004606]]),\n",
       " 'Xval': array([[-16.74653578],\n",
       "        [-14.57747075],\n",
       "        [ 34.51575866],\n",
       "        [-47.01007574],\n",
       "        [ 36.97511905],\n",
       "        [-40.68611002],\n",
       "        [ -4.47201098],\n",
       "        [ 26.53363489],\n",
       "        [-42.7976831 ],\n",
       "        [ 25.37409938],\n",
       "        [-31.10955398],\n",
       "        [ 27.31176864],\n",
       "        [ -3.26386201],\n",
       "        [ -1.81827649],\n",
       "        [-40.7196624 ],\n",
       "        [-50.01324365],\n",
       "        [-17.41177155],\n",
       "        [  3.5881937 ],\n",
       "        [  7.08548026],\n",
       "        [ 46.28236902],\n",
       "        [ 14.61228909]]),\n",
       " 'yval': array([[ 4.17020201e+00],\n",
       "        [ 4.06726280e+00],\n",
       "        [ 3.18730676e+01],\n",
       "        [ 1.06236562e+01],\n",
       "        [ 3.18360213e+01],\n",
       "        [ 4.95936972e+00],\n",
       "        [ 4.45159880e+00],\n",
       "        [ 2.22763185e+01],\n",
       "        [-4.38738274e-05],\n",
       "        [ 2.05038016e+01],\n",
       "        [ 3.85834476e+00],\n",
       "        [ 1.93650529e+01],\n",
       "        [ 4.88376281e+00],\n",
       "        [ 1.10971588e+01],\n",
       "        [ 7.46170827e+00],\n",
       "        [ 1.47693464e+00],\n",
       "        [ 2.71916388e+00],\n",
       "        [ 1.09269007e+01],\n",
       "        [ 8.34871235e+00],\n",
       "        [ 5.27819280e+01],\n",
       "        [ 1.33573396e+01]])}"
      ]
     },
     "execution_count": 3,
     "metadata": {},
     "output_type": "execute_result"
    }
   ],
   "source": [
    "#load data from .mat file\n",
    "data = loadmat('ex5data1.mat')\n",
    "data"
   ]
  },
  {
   "cell_type": "code",
   "execution_count": 4,
   "metadata": {},
   "outputs": [
    {
     "name": "stdout",
     "output_type": "stream",
     "text": [
      "X_train shape: (12, 1) y_train shape: (12, 1)\n",
      "X_test shape: (21, 1) y_test shape: (21, 1)\n",
      "X_valid shape: (21, 1) y_valid shape: (21, 1)\n"
     ]
    }
   ],
   "source": [
    "#initialize train, validation and test data\n",
    "X_train, y_train = data['X'], data['y']\n",
    "X_test, y_test = data['Xtest'], data['ytest']\n",
    "X_valid, y_valid = data['Xval'], data['yval']\n",
    "print(\"X_train shape:\", X_train.shape, \"y_train shape:\", y_train.shape)\n",
    "print(\"X_test shape:\", X_test.shape, \"y_test shape:\", y_test.shape)\n",
    "print(\"X_valid shape:\", X_valid.shape, \"y_valid shape:\", y_valid.shape)"
   ]
  },
  {
   "cell_type": "code",
   "execution_count": 5,
   "metadata": {},
   "outputs": [
    {
     "data": {
      "image/png": "[encoded data removed]",
      "text/plain": [
       "<Figure size 576x288 with 1 Axes>"
      ]
     },
     "metadata": {
      "needs_background": "light"
     },
     "output_type": "display_data"
    }
   ],
   "source": [
    "#visualize train data\n",
    "def plot_data(X, y):\n",
    "    #plt.scatter(x=X, y=y, marker='x', c='red')\n",
    "    plt.plot(X, y, 'rx')\n",
    "    plt.xlabel('Change in water level (x)')\n",
    "    plt.ylabel('Water flowing out of the dam (y)')\n",
    "    plt.grid(True)\n",
    "    plt.show()\n",
    "    \n",
    "plot_data(X_train, y_train)"
   ]
  },
  {
   "cell_type": "code",
   "execution_count": 6,
   "metadata": {},
   "outputs": [],
   "source": [
    "#set model variables\n",
    "theta_initial = np.array([1, 1])\n",
    "lmbda = 1"
   ]
  },
  {
   "cell_type": "code",
   "execution_count": 7,
   "metadata": {
    "scrolled": false
   },
   "outputs": [
    {
     "data": {
      "text/plain": [
       "array([[  1.        , -15.93675813],\n",
       "       [  1.        , -29.15297922],\n",
       "       [  1.        ,  36.18954863],\n",
       "       [  1.        ,  37.49218733],\n",
       "       [  1.        , -48.05882945],\n",
       "       [  1.        ,  -8.94145794],\n",
       "       [  1.        ,  15.30779289],\n",
       "       [  1.        , -34.70626581],\n",
       "       [  1.        ,   1.38915437],\n",
       "       [  1.        , -44.38375985],\n",
       "       [  1.        ,   7.01350208],\n",
       "       [  1.        ,  22.76274892]])"
      ]
     },
     "execution_count": 7,
     "metadata": {},
     "output_type": "execute_result"
    }
   ],
   "source": [
    "#insert intercept term into train data\n",
    "X_train_int = np.insert(X_train, 0, 1, axis=1)\n",
    "X_train_int"
   ]
  },
  {
   "cell_type": "code",
   "execution_count": 8,
   "metadata": {},
   "outputs": [
    {
     "data": {
      "text/plain": [
       "array([[  1.        , -33.31800399],\n",
       "       [  1.        , -37.91216403],\n",
       "       [  1.        , -51.20693795],\n",
       "       [  1.        ,  -6.13259585],\n",
       "       [  1.        ,  21.26118327],\n",
       "       [  1.        , -40.31952949],\n",
       "       [  1.        , -14.54153167],\n",
       "       [  1.        ,  32.55976024],\n",
       "       [  1.        ,  13.39343255],\n",
       "       [  1.        ,  44.20988595],\n",
       "       [  1.        ,  -1.14267768],\n",
       "       [  1.        , -12.76686065],\n",
       "       [  1.        ,  34.05450539],\n",
       "       [  1.        ,  39.22350028],\n",
       "       [  1.        ,   1.97449674],\n",
       "       [  1.        ,  29.6217551 ],\n",
       "       [  1.        , -23.66962971],\n",
       "       [  1.        ,  -9.01180139],\n",
       "       [  1.        , -55.94057091],\n",
       "       [  1.        , -35.70859752],\n",
       "       [  1.        ,   9.51020533]])"
      ]
     },
     "execution_count": 8,
     "metadata": {},
     "output_type": "execute_result"
    }
   ],
   "source": [
    "#insert intercept term into validation and test data\n",
    "X_valid_int = np.insert(X_valid, 0, 1, axis=1)\n",
    "X_test_int = np.insert(X_test, 0, 1, axis=1)\n",
    "X_test_int"
   ]
  },
  {
   "cell_type": "code",
   "execution_count": 9,
   "metadata": {},
   "outputs": [],
   "source": [
    "def h(X, theta):\n",
    "    \"\"\" hypothesis function \"\"\"\n",
    "    return np.dot(X, theta)"
   ]
  },
  {
   "cell_type": "code",
   "execution_count": 10,
   "metadata": {},
   "outputs": [
    {
     "data": {
      "text/plain": [
       "303.9931922202643"
      ]
     },
     "execution_count": 10,
     "metadata": {},
     "output_type": "execute_result"
    }
   ],
   "source": [
    "def cost_function(theta, X, y, lmbda):\n",
    "    m = X.shape[0]\n",
    "    hypothesis = h(X, theta).reshape((m, 1)) # pack each element in array \n",
    "    J = float(1/(2*m) * np.dot((hypothesis - y).T, (hypothesis - y)))\n",
    "    regularization = lmbda/(2*m) * np.dot(theta[1:], theta[1:])\n",
    "    \n",
    "    return J + regularization\n",
    "\n",
    "#expected cost 303.993\n",
    "cost_function(theta_initial, X_train_int, y_train, lmbda)"
   ]
  },
  {
   "cell_type": "code",
   "execution_count": 11,
   "metadata": {},
   "outputs": [
    {
     "data": {
      "text/plain": [
       "array([-15.30301567, 598.25074417])"
      ]
     },
     "execution_count": 11,
     "metadata": {},
     "output_type": "execute_result"
    }
   ],
   "source": [
    "def gradient(theta, X, y, lmbda):\n",
    "    m = X.shape[0]\n",
    "    hypothesis = h(X, theta).reshape((m, 1))\n",
    "    grad = float(1 / m) * np.dot((hypothesis - y).T, X)\n",
    "    regularization = float(lmbda / m) * theta\n",
    "    regularization[0] = 0 \n",
    "    \n",
    "    return (grad + regularization).flatten()\n",
    "\n",
    "#expected [-15.30; 598.250].\n",
    "gradient(theta_initial, X_train_int, y_train, lmbda)"
   ]
  },
  {
   "cell_type": "code",
   "execution_count": 12,
   "metadata": {
    "scrolled": true
   },
   "outputs": [],
   "source": [
    "def optimize_theta(theta_initial, X, y, lmbda=0., print_output=True):\n",
    "    \"\"\"compute the optimal values of θ\"\"\"\n",
    "    theta_opt = fmin_cg(cost_function, \n",
    "                        x0=theta_initial, \n",
    "                        fprime=gradient, \n",
    "                        args=(X, y, lmbda),\n",
    "                        maxiter=1000,\n",
    "                        epsilon=1.49e-12,\n",
    "                        disp=print_output)\n",
    "    return theta_opt"
   ]
  },
  {
   "cell_type": "code",
   "execution_count": 13,
   "metadata": {},
   "outputs": [
    {
     "name": "stdout",
     "output_type": "stream",
     "text": [
      "Optimization terminated successfully.\n",
      "         Current function value: 22.373906\n",
      "         Iterations: 18\n",
      "         Function evaluations: 28\n",
      "         Gradient evaluations: 28\n"
     ]
    },
    {
     "data": {
      "text/plain": [
       "array([13.08790734,  0.36777925])"
      ]
     },
     "execution_count": 13,
     "metadata": {},
     "output_type": "execute_result"
    }
   ],
   "source": [
    "theta_opt = optimize_theta(theta_initial, X_train_int, y_train, 0)\n",
    "theta_opt"
   ]
  },
  {
   "cell_type": "code",
   "execution_count": 14,
   "metadata": {
    "scrolled": true
   },
   "outputs": [
    {
     "data": {
      "image/png": "[encoded data removed]",
      "text/plain": [
       "<Figure size 576x288 with 1 Axes>"
      ]
     },
     "metadata": {
      "needs_background": "light"
     },
     "output_type": "display_data"
    }
   ],
   "source": [
    "plt.plot(X_train, h(X_train_int, theta_opt).flatten(), c='blue')\n",
    "plot_data(X_train, y_train)"
   ]
  },
  {
   "cell_type": "markdown",
   "metadata": {},
   "source": [
    "# Learning curves\n",
    "\n",
    "Print a chart that shows how error changes when the training set goes up. We need te have a matrix of: training set size (tss) 1 - error size, tss 2 - error size etc.. Reuse existing cost function and set lmbda to 0 so regularization == 0\n",
    "\n",
    "> When you are computing the training set error, make sure you compute it on the training subset (i.e., X(1:n,:) and y(1:n)) (instead of the entire training set). However, for the cross validation error, you should compute it over the entire cross validation set. "
   ]
  },
  {
   "cell_type": "code",
   "execution_count": 15,
   "metadata": {},
   "outputs": [
    {
     "data": {
      "image/png": "[encoded data removed]",
      "text/plain": [
       "<Figure size 576x360 with 1 Axes>"
      ]
     },
     "metadata": {
      "needs_background": "light"
     },
     "output_type": "display_data"
    }
   ],
   "source": [
    "def plot_learning_curve():\n",
    "    \"\"\"\n",
    "    Loop over first training point, then first 2 training points, then first 3 ...\n",
    "    and use each training-set-subset to find trained parameters.\n",
    "    With those parameters, compute the cost on that subset (Jtrain)\n",
    "    remembering that for Jtrain, lambda = 0 (even if you are using regularization).\n",
    "    Then, use the trained parameters to compute Jval on the entire validation set\n",
    "    again forcing lambda = 0 even if using regularization.\n",
    "    Store the computed errors, error_train and error_val and plot them.\n",
    "    \"\"\"\n",
    "    initial_theta = np.array([[1.],[1.]])\n",
    "    mym, error_train, error_val = [], [], []\n",
    "    for x in range(1,13,1):\n",
    "        train_subset = X_train_int[:x,:]\n",
    "        y_subset = y_train[:x]\n",
    "        mym.append(y_subset.shape[0])\n",
    "        fit_theta = optimize_theta(initial_theta,train_subset,y_subset,lmbda=0.,print_output=False)\n",
    "        error_train.append(cost_function(fit_theta,train_subset,y_subset,lmbda=0.))\n",
    "        error_val.append(cost_function(fit_theta,X_valid_int,y_valid,lmbda=0.))\n",
    "        \n",
    "    plt.figure(figsize=(8,5))\n",
    "    plt.plot(mym,error_train,label='Train')\n",
    "    plt.plot(mym,error_val,label='Cross Validation')\n",
    "    plt.legend()\n",
    "    plt.title('Learning curve for linear regression')\n",
    "    plt.xlabel('Number of training examples')\n",
    "    plt.ylabel('Error')\n",
    "    plt.grid(True)\n",
    "    \n",
    "plot_learning_curve()"
   ]
  },
  {
   "cell_type": "markdown",
   "metadata": {},
   "source": [
    "We can see that our model is too simple - both train and validation errors are high"
   ]
  },
  {
   "cell_type": "markdown",
   "metadata": {},
   "source": [
    "# Polynomial regression"
   ]
  },
  {
   "cell_type": "code",
   "execution_count": 16,
   "metadata": {},
   "outputs": [],
   "source": [
    "def generate_polynomial_features(X, p):\n",
    "    \"\"\"\n",
    "    Maps the original training set X of size m × 1 into its higher powers.\n",
    "    Specifically, when a training set X of size m × 1 is passed into the function, the function should return a m×p matrix X_poly,\n",
    "    where column 1 holds the original values of X, column 2 holds the values of X.^2, column 3 holds the values of X.^3, and so on.\n",
    "    \"\"\"\n",
    "    X_poly = X.copy()\n",
    "    #skip column 0 with 1s (intercept term) and column 1 (power of 1 == Xi)\n",
    "    #add to range so outer bound is included\n",
    "    for i in range(2, p + 1):\n",
    "        power = np.power(X[:, 1], i)\n",
    "        X_poly = np.insert(X_poly, X_poly.shape[1], power, axis=1)\n",
    "        \n",
    "    return X_poly"
   ]
  },
  {
   "cell_type": "markdown",
   "metadata": {},
   "source": [
    "Test method generate_polynomial_features on integers"
   ]
  },
  {
   "cell_type": "code",
   "execution_count": 17,
   "metadata": {},
   "outputs": [
    {
     "name": "stdout",
     "output_type": "stream",
     "text": [
      "[[1 2]\n",
      " [1 3]\n",
      " [1 4]]\n",
      "\n",
      "[[  1   2   4   8  16]\n",
      " [  1   3   9  27  81]\n",
      " [  1   4  16  64 256]]\n"
     ]
    }
   ],
   "source": [
    "tmp = np.array([[1, 2], [1, 3], [1, 4]])\n",
    "print(tmp)\n",
    "print()\n",
    "print(generate_polynomial_features(tmp, 4))"
   ]
  },
  {
   "cell_type": "code",
   "execution_count": 18,
   "metadata": {},
   "outputs": [],
   "source": [
    "def feature_normalize(X):\n",
    "    \"\"\"\n",
    "    X array has 1st column of 1s (intercept term) - no need to normalize.\n",
    "    Does feature normalizing on the columns (subtract mean, divide by standard deviation).\n",
    "    Returns the feature-normalized X, and feature means and stds in a list\n",
    "    IMPORTANT note: you should subtract the means, THEN compute std of the\n",
    "    mean-subtracted columns. Does make a huge difference\n",
    "    \"\"\"\n",
    "\n",
    "    X_norm = X.copy()\n",
    "    X_mean = np.mean(X_norm, axis=0)\n",
    "    X_norm[:, 1:] = X_norm[:, 1:] - X_mean[1:]\n",
    "    X_std = np.std(X_norm, axis=0, ddof=1)\n",
    "    X_norm[:, 1:] = X_norm[:, 1:] / X_std[1:]\n",
    "            \n",
    "    return X_norm, X_mean, X_std"
   ]
  },
  {
   "cell_type": "code",
   "execution_count": 19,
   "metadata": {
    "scrolled": false
   },
   "outputs": [
    {
     "name": "stdout",
     "output_type": "stream",
     "text": [
      "[[ 1.00000000e+00 -1.59367581e+01  2.53980260e+02 -4.04762197e+03\n",
      "   6.45059724e+04 -1.02801608e+06  1.63832436e+07]\n",
      " [ 1.00000000e+00 -2.91529792e+01  8.49896197e+02 -2.47770062e+04\n",
      "   7.22323546e+05 -2.10578833e+07  6.13900035e+08]\n",
      " [ 1.00000000e+00  3.61895486e+01  1.30968343e+03  4.73968522e+04\n",
      "   1.71527069e+06  6.20748719e+07  2.24646160e+09]\n",
      " [ 1.00000000e+00  3.74921873e+01  1.40566411e+03  5.27014222e+04\n",
      "   1.97589159e+06  7.40804977e+07  2.77743990e+09]\n",
      " [ 1.00000000e+00 -4.80588295e+01  2.30965109e+03 -1.10999128e+05\n",
      "   5.33448815e+06 -2.56369256e+08  1.23208064e+10]\n",
      " [ 1.00000000e+00 -8.94145794e+00  7.99496701e+01 -7.14866612e+02\n",
      "   6.39194974e+03 -5.71533498e+04  5.11034273e+05]\n",
      " [ 1.00000000e+00  1.53077929e+01  2.34328523e+02  3.58705250e+03\n",
      "   5.49098568e+04  8.40548715e+05  1.28669456e+07]\n",
      " [ 1.00000000e+00 -3.47062658e+01  1.20452489e+03 -4.18045609e+04\n",
      "   1.45088020e+06 -5.03546340e+07  1.74762131e+09]\n",
      " [ 1.00000000e+00  1.38915437e+00  1.92974986e+00  2.68072045e+00\n",
      "   3.72393452e+00  5.17311991e+00  7.18626212e+00]\n",
      " [ 1.00000000e+00 -4.43837599e+01  1.96991814e+03 -8.74323736e+04\n",
      "   3.88057747e+06 -1.72234619e+08  7.64441995e+09]\n",
      " [ 1.00000000e+00  7.01350208e+00  4.91892115e+01  3.44988637e+02\n",
      "   2.41957852e+03  1.69697190e+04  1.19017160e+05]\n",
      " [ 1.00000000e+00  2.27627489e+01  5.18142738e+02  1.17943531e+04\n",
      "   2.68471897e+05  6.11115839e+06  1.39106764e+08]]\n"
     ]
    }
   ],
   "source": [
    "#p = 8 #polynomial degree\n",
    "\n",
    "#from https://github.com/kaleko/CourseraML/blob/master/ex5/ex5.ipynb\n",
    "###############################################################\n",
    "# My d=8 plot doesn't match the homework pdf, due to differences\n",
    "# between scipy.optimize.fmin_cg and the octave version\n",
    "# I see that in subokita's implementation, for fitting he gets the\n",
    "# same results as I when using scipy.optimize.fmin_cg\n",
    "# \n",
    "# The d=5 plot (up through x^6) shows overfitting clearly, so I'll\n",
    "# continue using that\n",
    "###############################################################\n",
    "\n",
    "polynomial_degree = 6\n",
    "X_poly = generate_polynomial_features(X_train_int, polynomial_degree)\n",
    "print(X_poly)"
   ]
  },
  {
   "cell_type": "code",
   "execution_count": 20,
   "metadata": {},
   "outputs": [
    {
     "data": {
      "text/plain": [
       "array([[ 1.00000000e+00, -3.62140776e-01, -7.55086688e-01,\n",
       "         1.82225876e-01, -7.06189908e-01,  3.06617917e-01,\n",
       "        -5.90877673e-01],\n",
       "       [ 1.00000000e+00, -8.03204845e-01,  1.25825266e-03,\n",
       "        -2.47936991e-01, -3.27023420e-01,  9.33963187e-02,\n",
       "        -4.35817606e-01],\n",
       "       [ 1.00000000e+00,  1.37746700e+00,  5.84826715e-01,\n",
       "         1.24976856e+00,  2.45311974e-01,  9.78359696e-01,\n",
       "        -1.21556976e-02]])"
      ]
     },
     "execution_count": 20,
     "metadata": {},
     "output_type": "execute_result"
    }
   ],
   "source": [
    "#normalize values\n",
    "X_poly_norm,  X_mean, X_std = feature_normalize(X_poly)\n",
    "X_poly_norm[:3, :]"
   ]
  },
  {
   "cell_type": "code",
   "execution_count": 21,
   "metadata": {},
   "outputs": [
    {
     "name": "stdout",
     "output_type": "stream",
     "text": [
      "Optimization terminated successfully.\n",
      "         Current function value: 0.198053\n",
      "         Iterations: 101\n",
      "         Function evaluations: 192\n",
      "         Gradient evaluations: 192\n"
     ]
    },
    {
     "data": {
      "text/plain": [
       "array([ 11.21758059,  11.36694926,  13.42850709,  10.76356217,\n",
       "        -4.36315877, -11.94562173,  -5.14791888])"
      ]
     },
     "execution_count": 21,
     "metadata": {},
     "output_type": "execute_result"
    }
   ],
   "source": [
    "theta_initial_poly = np.ones((X_poly.shape[1], 1))\n",
    "theta_opt_poly = optimize_theta(theta_initial_poly, X_poly_norm, y_train)\n",
    "theta_opt_poly"
   ]
  },
  {
   "cell_type": "code",
   "execution_count": 22,
   "metadata": {},
   "outputs": [
    {
     "data": {
      "image/png": "[encoded data removed]",
      "text/plain": [
       "<Figure size 576x288 with 1 Axes>"
      ]
     },
     "metadata": {
      "needs_background": "light"
     },
     "output_type": "display_data"
    }
   ],
   "source": [
    "def plot_polynomial_fit(theta, means, stds):\n",
    "    n_points_to_plot = 50\n",
    "    x_vals = np.linspace(-50, 50, n_points_to_plot)\n",
    "    \n",
    "    x_mat = np.ones((n_points_to_plot, 1))\n",
    "    x_mat = np.insert(x_mat, x_mat.shape[1], x_vals.T, axis=1)\n",
    "    x_mat = generate_polynomial_features(x_mat, len(theta) - 1)\n",
    "    \n",
    "    #This is undoing feature normalization\n",
    "    x_mat[:, 1:] = x_mat[:, 1:] - means[1:]\n",
    "    x_mat[:, 1:] = x_mat[:, 1:] / stds[1:]\n",
    "    plt.plot(x_vals, h(x_mat, theta), 'b--')\n",
    "    plot_data(X_train, y_train)\n",
    "\n",
    "plot_polynomial_fit(theta_opt_poly, X_mean, X_std)"
   ]
  },
  {
   "cell_type": "code",
   "execution_count": 25,
   "metadata": {
    "scrolled": true
   },
   "outputs": [
    {
     "name": "stderr",
     "output_type": "stream",
     "text": [
      "/Users/bs/anaconda3/lib/python3.7/site-packages/numpy/core/_methods.py:140: RuntimeWarning: Degrees of freedom <= 0 for slice\n",
      "  keepdims=keepdims)\n",
      "/Users/bs/anaconda3/lib/python3.7/site-packages/numpy/core/_methods.py:130: RuntimeWarning: invalid value encountered in true_divide\n",
      "  ret, rcount, out=ret, casting='unsafe', subok=False)\n",
      "/Users/bs/anaconda3/lib/python3.7/site-packages/numpy/core/fromnumeric.py:83: RuntimeWarning: invalid value encountered in reduce\n",
      "  return ufunc.reduce(obj, axis, dtype, out, **passkwargs)\n"
     ]
    },
    {
     "data": {
      "image/png": "[encoded data removed]",
      "text/plain": [
       "<Figure size 576x360 with 1 Axes>"
      ]
     },
     "metadata": {
      "needs_background": "light"
     },
     "output_type": "display_data"
    }
   ],
   "source": [
    "def plot_polynomial_learning_curve(lmbda=0.):\n",
    "    theta_initial = np.ones((polynomial_degree + 1, 1))\n",
    "    my_m, error_train, error_val = [], [], []\n",
    "    X_polynomial = generate_polynomial_features(X_valid_int, polynomial_degree)\n",
    "    X_normalized, _, _ = feature_normalize(X_polynomial)\n",
    "\n",
    "    for i in range(1, X_train.shape[0] + 1):\n",
    "        x_subset = X_train_int[:i, :]\n",
    "        y_subset = y_train[:i]\n",
    "        my_m.append(y_subset.shape[0])\n",
    "        x_subset = generate_polynomial_features(x_subset, polynomial_degree)\n",
    "        x_subset, _, _ = feature_normalize(x_subset)\n",
    "        theta_opt = optimize_theta(theta_initial, x_subset, y_subset, lmbda, False)\n",
    "        error_train.append(cost_function(theta_opt, x_subset, y_subset, lmbda))\n",
    "        error_val.append(cost_function(theta_opt, X_normalized, y_valid, lmbda))\n",
    "        \n",
    "    plt.figure(figsize=(8,5))\n",
    "    plt.plot(my_m,error_train,label='Train')\n",
    "    plt.plot(my_m,error_val,label='Cross Validation')\n",
    "    plt.legend()\n",
    "    plt.title('Learning curve for linear regression')\n",
    "    plt.xlabel('Number of training examples')\n",
    "    plt.ylabel('Error')\n",
    "    plt.grid(True)\n",
    "    \n",
    "plot_polynomial_learning_curve()"
   ]
  }
 ],
 "metadata": {
  "kernelspec": {
   "display_name": "Python 3",
   "language": "python",
   "name": "python3"
  },
  "language_info": {
   "codemirror_mode": {
    "name": "ipython",
    "version": 3
   },
   "file_extension": ".py",
   "mimetype": "text/x-python",
   "name": "python",
   "nbconvert_exporter": "python",
   "pygments_lexer": "ipython3",
   "version": "3.7.2"
  }
 },
 "nbformat": 4,
 "nbformat_minor": 2
}
