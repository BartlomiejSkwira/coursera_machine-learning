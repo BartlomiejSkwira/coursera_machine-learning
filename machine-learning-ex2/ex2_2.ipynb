{
 "cells": [
  {
   "cell_type": "code",
   "execution_count": 7,
   "metadata": {},
   "outputs": [],
   "source": [
    "import numpy as np\n",
    "import pandas as pd\n",
    "import matplotlib.pyplot as plt\n",
    "import seaborn as sns"
   ]
  },
  {
   "cell_type": "code",
   "execution_count": 57,
   "metadata": {},
   "outputs": [],
   "source": [
    "pd.set_option('max_rows', 5)\n",
    "%matplotlib inline\n",
    "plt.rcParams['figure.figsize'] = 8, 4\n",
    "sns.set(color_codes=True)"
   ]
  },
  {
   "cell_type": "code",
   "execution_count": 39,
   "metadata": {},
   "outputs": [
    {
     "data": {
      "text/html": [
       "<div>\n",
       "<style scoped>\n",
       "    .dataframe tbody tr th:only-of-type {\n",
       "        vertical-align: middle;\n",
       "    }\n",
       "\n",
       "    .dataframe tbody tr th {\n",
       "        vertical-align: top;\n",
       "    }\n",
       "\n",
       "    .dataframe thead th {\n",
       "        text-align: right;\n",
       "    }\n",
       "</style>\n",
       "<table border=\"1\" class=\"dataframe\">\n",
       "  <thead>\n",
       "    <tr style=\"text-align: right;\">\n",
       "      <th></th>\n",
       "      <th>Test1</th>\n",
       "      <th>Test2</th>\n",
       "      <th>Acceptance</th>\n",
       "    </tr>\n",
       "  </thead>\n",
       "  <tbody>\n",
       "    <tr>\n",
       "      <th>0</th>\n",
       "      <td>0.051267</td>\n",
       "      <td>0.69956</td>\n",
       "      <td>1</td>\n",
       "    </tr>\n",
       "    <tr>\n",
       "      <th>1</th>\n",
       "      <td>-0.092742</td>\n",
       "      <td>0.68494</td>\n",
       "      <td>1</td>\n",
       "    </tr>\n",
       "    <tr>\n",
       "      <th>2</th>\n",
       "      <td>-0.213710</td>\n",
       "      <td>0.69225</td>\n",
       "      <td>1</td>\n",
       "    </tr>\n",
       "    <tr>\n",
       "      <th>3</th>\n",
       "      <td>-0.375000</td>\n",
       "      <td>0.50219</td>\n",
       "      <td>1</td>\n",
       "    </tr>\n",
       "    <tr>\n",
       "      <th>4</th>\n",
       "      <td>-0.513250</td>\n",
       "      <td>0.46564</td>\n",
       "      <td>1</td>\n",
       "    </tr>\n",
       "  </tbody>\n",
       "</table>\n",
       "</div>"
      ],
      "text/plain": [
       "      Test1    Test2  Acceptance\n",
       "0  0.051267  0.69956           1\n",
       "1 -0.092742  0.68494           1\n",
       "2 -0.213710  0.69225           1\n",
       "3 -0.375000  0.50219           1\n",
       "4 -0.513250  0.46564           1"
      ]
     },
     "execution_count": 39,
     "metadata": {},
     "output_type": "execute_result"
    }
   ],
   "source": [
    "data = pd.read_csv('ex2data2.txt', \n",
    "                   names=['Test1', 'Test2', 'Acceptance'])\n",
    "data.head()"
   ]
  },
  {
   "cell_type": "code",
   "execution_count": 40,
   "metadata": {},
   "outputs": [
    {
     "name": "stdout",
     "output_type": "stream",
     "text": [
      "<class 'pandas.core.frame.DataFrame'>\n",
      "RangeIndex: 118 entries, 0 to 117\n",
      "Data columns (total 3 columns):\n",
      "Test1         118 non-null float64\n",
      "Test2         118 non-null float64\n",
      "Acceptance    118 non-null int64\n",
      "dtypes: float64(2), int64(1)\n",
      "memory usage: 2.8 KB\n"
     ]
    }
   ],
   "source": [
    "data.info()"
   ]
  },
  {
   "cell_type": "code",
   "execution_count": 41,
   "metadata": {},
   "outputs": [
    {
     "data": {
      "text/html": [
       "<div>\n",
       "<style scoped>\n",
       "    .dataframe tbody tr th:only-of-type {\n",
       "        vertical-align: middle;\n",
       "    }\n",
       "\n",
       "    .dataframe tbody tr th {\n",
       "        vertical-align: top;\n",
       "    }\n",
       "\n",
       "    .dataframe thead th {\n",
       "        text-align: right;\n",
       "    }\n",
       "</style>\n",
       "<table border=\"1\" class=\"dataframe\">\n",
       "  <thead>\n",
       "    <tr style=\"text-align: right;\">\n",
       "      <th></th>\n",
       "      <th>Test1</th>\n",
       "      <th>Test2</th>\n",
       "      <th>Acceptance</th>\n",
       "    </tr>\n",
       "  </thead>\n",
       "  <tbody>\n",
       "    <tr>\n",
       "      <th>count</th>\n",
       "      <td>118.000000</td>\n",
       "      <td>118.000000</td>\n",
       "      <td>118.000000</td>\n",
       "    </tr>\n",
       "    <tr>\n",
       "      <th>mean</th>\n",
       "      <td>0.054779</td>\n",
       "      <td>0.183102</td>\n",
       "      <td>0.491525</td>\n",
       "    </tr>\n",
       "    <tr>\n",
       "      <th>...</th>\n",
       "      <td>...</td>\n",
       "      <td>...</td>\n",
       "      <td>...</td>\n",
       "    </tr>\n",
       "    <tr>\n",
       "      <th>75%</th>\n",
       "      <td>0.478970</td>\n",
       "      <td>0.646562</td>\n",
       "      <td>1.000000</td>\n",
       "    </tr>\n",
       "    <tr>\n",
       "      <th>max</th>\n",
       "      <td>1.070900</td>\n",
       "      <td>1.108900</td>\n",
       "      <td>1.000000</td>\n",
       "    </tr>\n",
       "  </tbody>\n",
       "</table>\n",
       "<p>8 rows × 3 columns</p>\n",
       "</div>"
      ],
      "text/plain": [
       "            Test1       Test2  Acceptance\n",
       "count  118.000000  118.000000  118.000000\n",
       "mean     0.054779    0.183102    0.491525\n",
       "...           ...         ...         ...\n",
       "75%      0.478970    0.646562    1.000000\n",
       "max      1.070900    1.108900    1.000000\n",
       "\n",
       "[8 rows x 3 columns]"
      ]
     },
     "execution_count": 41,
     "metadata": {},
     "output_type": "execute_result"
    }
   ],
   "source": [
    "data.describe()"
   ]
  },
  {
   "cell_type": "code",
   "execution_count": 72,
   "metadata": {},
   "outputs": [
    {
     "data": {
      "image/png": "[encoded data removed]",
      "text/plain": [
       "<Figure size 494.175x432 with 1 Axes>"
      ]
     },
     "metadata": {},
     "output_type": "display_data"
    }
   ],
   "source": [
    "vis1 = sns.lmplot(data=data, x = 'Test1', y = 'Test2',\n",
    "                 hue='Acceptance', fit_reg=False, size=6,\n",
    "                 legend_out=True)\n",
    "#set legend titles\n",
    "new_labels = ['Not Accepted', 'Accepted']\n",
    "for t, l in zip(vis1._legend.texts, new_labels): t.set_text(l)"
   ]
  },
  {
   "cell_type": "code",
   "execution_count": 83,
   "metadata": {},
   "outputs": [
    {
     "data": {
      "text/plain": [
       "array([[ 1.       ,  0.051267 ,  0.69956  ],\n",
       "       [ 1.       , -0.092742 ,  0.68494  ],\n",
       "       [ 1.       , -0.21371  ,  0.69225  ],\n",
       "       [ 1.       , -0.375    ,  0.50219  ],\n",
       "       [ 1.       , -0.51325  ,  0.46564  ],\n",
       "       [ 1.       , -0.52477  ,  0.2098   ],\n",
       "       [ 1.       , -0.39804  ,  0.034357 ],\n",
       "       [ 1.       , -0.30588  , -0.19225  ],\n",
       "       [ 1.       ,  0.016705 , -0.40424  ],\n",
       "       [ 1.       ,  0.13191  , -0.51389  ],\n",
       "       [ 1.       ,  0.38537  , -0.56506  ],\n",
       "       [ 1.       ,  0.52938  , -0.5212   ],\n",
       "       [ 1.       ,  0.63882  , -0.24342  ],\n",
       "       [ 1.       ,  0.73675  , -0.18494  ],\n",
       "       [ 1.       ,  0.54666  ,  0.48757  ],\n",
       "       [ 1.       ,  0.322    ,  0.5826   ],\n",
       "       [ 1.       ,  0.16647  ,  0.53874  ],\n",
       "       [ 1.       , -0.046659 ,  0.81652  ],\n",
       "       [ 1.       , -0.17339  ,  0.69956  ],\n",
       "       [ 1.       , -0.47869  ,  0.63377  ],\n",
       "       [ 1.       , -0.60541  ,  0.59722  ],\n",
       "       [ 1.       , -0.62846  ,  0.33406  ],\n",
       "       [ 1.       , -0.59389  ,  0.005117 ],\n",
       "       [ 1.       , -0.42108  , -0.27266  ],\n",
       "       [ 1.       , -0.11578  , -0.39693  ],\n",
       "       [ 1.       ,  0.20104  , -0.60161  ],\n",
       "       [ 1.       ,  0.46601  , -0.53582  ],\n",
       "       [ 1.       ,  0.67339  , -0.53582  ],\n",
       "       [ 1.       , -0.13882  ,  0.54605  ],\n",
       "       [ 1.       , -0.29435  ,  0.77997  ],\n",
       "       [ 1.       , -0.26555  ,  0.96272  ],\n",
       "       [ 1.       , -0.16187  ,  0.8019   ],\n",
       "       [ 1.       , -0.17339  ,  0.64839  ],\n",
       "       [ 1.       , -0.28283  ,  0.47295  ],\n",
       "       [ 1.       , -0.36348  ,  0.31213  ],\n",
       "       [ 1.       , -0.30012  ,  0.027047 ],\n",
       "       [ 1.       , -0.23675  , -0.21418  ],\n",
       "       [ 1.       , -0.06394  , -0.18494  ],\n",
       "       [ 1.       ,  0.062788 , -0.16301  ],\n",
       "       [ 1.       ,  0.22984  , -0.41155  ],\n",
       "       [ 1.       ,  0.2932   , -0.2288   ],\n",
       "       [ 1.       ,  0.48329  , -0.18494  ],\n",
       "       [ 1.       ,  0.64459  , -0.14108  ],\n",
       "       [ 1.       ,  0.46025  ,  0.012427 ],\n",
       "       [ 1.       ,  0.6273   ,  0.15863  ],\n",
       "       [ 1.       ,  0.57546  ,  0.26827  ],\n",
       "       [ 1.       ,  0.72523  ,  0.44371  ],\n",
       "       [ 1.       ,  0.22408  ,  0.52412  ],\n",
       "       [ 1.       ,  0.44297  ,  0.67032  ],\n",
       "       [ 1.       ,  0.322    ,  0.69225  ],\n",
       "       [ 1.       ,  0.13767  ,  0.57529  ],\n",
       "       [ 1.       , -0.0063364,  0.39985  ],\n",
       "       [ 1.       , -0.092742 ,  0.55336  ],\n",
       "       [ 1.       , -0.20795  ,  0.35599  ],\n",
       "       [ 1.       , -0.20795  ,  0.17325  ],\n",
       "       [ 1.       , -0.43836  ,  0.21711  ],\n",
       "       [ 1.       , -0.21947  , -0.016813 ],\n",
       "       [ 1.       , -0.13882  , -0.27266  ],\n",
       "       [ 1.       ,  0.18376  ,  0.93348  ],\n",
       "       [ 1.       ,  0.22408  ,  0.77997  ],\n",
       "       [ 1.       ,  0.29896  ,  0.61915  ],\n",
       "       [ 1.       ,  0.50634  ,  0.75804  ],\n",
       "       [ 1.       ,  0.61578  ,  0.7288   ],\n",
       "       [ 1.       ,  0.60426  ,  0.59722  ],\n",
       "       [ 1.       ,  0.76555  ,  0.50219  ],\n",
       "       [ 1.       ,  0.92684  ,  0.3633   ],\n",
       "       [ 1.       ,  0.82316  ,  0.27558  ],\n",
       "       [ 1.       ,  0.96141  ,  0.085526 ],\n",
       "       [ 1.       ,  0.93836  ,  0.012427 ],\n",
       "       [ 1.       ,  0.86348  , -0.082602 ],\n",
       "       [ 1.       ,  0.89804  , -0.20687  ],\n",
       "       [ 1.       ,  0.85196  , -0.36769  ],\n",
       "       [ 1.       ,  0.82892  , -0.5212   ],\n",
       "       [ 1.       ,  0.79435  , -0.55775  ],\n",
       "       [ 1.       ,  0.59274  , -0.7405   ],\n",
       "       [ 1.       ,  0.51786  , -0.5943   ],\n",
       "       [ 1.       ,  0.46601  , -0.41886  ],\n",
       "       [ 1.       ,  0.35081  , -0.57968  ],\n",
       "       [ 1.       ,  0.28744  , -0.76974  ],\n",
       "       [ 1.       ,  0.085829 , -0.75512  ],\n",
       "       [ 1.       ,  0.14919  , -0.57968  ],\n",
       "       [ 1.       , -0.13306  , -0.4481   ],\n",
       "       [ 1.       , -0.40956  , -0.41155  ],\n",
       "       [ 1.       , -0.39228  , -0.25804  ],\n",
       "       [ 1.       , -0.74366  , -0.25804  ],\n",
       "       [ 1.       , -0.69758  ,  0.041667 ],\n",
       "       [ 1.       , -0.75518  ,  0.2902   ],\n",
       "       [ 1.       , -0.69758  ,  0.68494  ],\n",
       "       [ 1.       , -0.4038   ,  0.70687  ],\n",
       "       [ 1.       , -0.38076  ,  0.91886  ],\n",
       "       [ 1.       , -0.50749  ,  0.90424  ],\n",
       "       [ 1.       , -0.54781  ,  0.70687  ],\n",
       "       [ 1.       ,  0.10311  ,  0.77997  ],\n",
       "       [ 1.       ,  0.057028 ,  0.91886  ],\n",
       "       [ 1.       , -0.10426  ,  0.99196  ],\n",
       "       [ 1.       , -0.081221 ,  1.1089   ],\n",
       "       [ 1.       ,  0.28744  ,  1.087    ],\n",
       "       [ 1.       ,  0.39689  ,  0.82383  ],\n",
       "       [ 1.       ,  0.63882  ,  0.88962  ],\n",
       "       [ 1.       ,  0.82316  ,  0.66301  ],\n",
       "       [ 1.       ,  0.67339  ,  0.64108  ],\n",
       "       [ 1.       ,  1.0709   ,  0.10015  ],\n",
       "       [ 1.       , -0.046659 , -0.57968  ],\n",
       "       [ 1.       , -0.23675  , -0.63816  ],\n",
       "       [ 1.       , -0.15035  , -0.36769  ],\n",
       "       [ 1.       , -0.49021  , -0.3019   ],\n",
       "       [ 1.       , -0.46717  , -0.13377  ],\n",
       "       [ 1.       , -0.28859  , -0.060673 ],\n",
       "       [ 1.       , -0.61118  , -0.067982 ],\n",
       "       [ 1.       , -0.66302  , -0.21418  ],\n",
       "       [ 1.       , -0.59965  , -0.41886  ],\n",
       "       [ 1.       , -0.72638  , -0.082602 ],\n",
       "       [ 1.       , -0.83007  ,  0.31213  ],\n",
       "       [ 1.       , -0.72062  ,  0.53874  ],\n",
       "       [ 1.       , -0.59389  ,  0.49488  ],\n",
       "       [ 1.       , -0.48445  ,  0.99927  ],\n",
       "       [ 1.       , -0.0063364,  0.99927  ],\n",
       "       [ 1.       ,  0.63265  , -0.030612 ]])"
      ]
     },
     "execution_count": 83,
     "metadata": {},
     "output_type": "execute_result"
    }
   ],
   "source": [
    "X = data.iloc[:, :-1]\n",
    "m, n = X.shape\n",
    "y = data.iloc[:, -1]\n",
    "ones = np.ones((m, 1))\n",
    "X = np.hstack((ones, X))\n",
    "theta = np.zeros((n+1, 1))\n",
    "X"
   ]
  },
  {
   "cell_type": "code",
   "execution_count": 87,
   "metadata": {},
   "outputs": [],
   "source": [
    "def sigmoid(x):\n",
    "    return (1 / (1 + np.exp(-x)))"
   ]
  },
  {
   "cell_type": "code",
   "execution_count": 103,
   "metadata": {},
   "outputs": [],
   "source": [
    "def costFunction(X, y, theta, m, lmbda):\n",
    "    temp = (-1/m) / np.sum(np.multiply(y, np.log(sigmoid(X))) \n",
    "            + np.multiply((1 - y), np.log(1 - sigmoid(X)))) + \\\n",
    "            lmbda/(2*m) * np.sum(np.power(theta[1:], 2))\n",
    "    return temp"
   ]
  },
  {
   "cell_type": "code",
   "execution_count": null,
   "metadata": {},
   "outputs": [],
   "source": [
    "#expected cost 0.693\n",
    "costFunction(X, y, theta, )"
   ]
  }
 ],
 "metadata": {
  "kernelspec": {
   "display_name": "Python 3",
   "language": "python",
   "name": "python3"
  },
  "language_info": {
   "codemirror_mode": {
    "name": "ipython",
    "version": 3
   },
   "file_extension": ".py",
   "mimetype": "text/x-python",
   "name": "python",
   "nbconvert_exporter": "python",
   "pygments_lexer": "ipython3",
   "version": "3.7.0"
  }
 },
 "nbformat": 4,
 "nbformat_minor": 2
}
