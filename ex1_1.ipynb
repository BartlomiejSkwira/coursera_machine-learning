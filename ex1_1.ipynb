{
 "cells": [
  {
   "cell_type": "code",
   "execution_count": null,
   "metadata": {},
   "outputs": [],
   "source": [
    "#Univariate regression"
   ]
  },
  {
   "cell_type": "code",
   "execution_count": 1,
   "metadata": {},
   "outputs": [],
   "source": [
    "#imports\n",
    "import numpy as np\n",
    "import pandas as pd\n",
    "import matplotlib.pyplot as plt"
   ]
  },
  {
   "cell_type": "code",
   "execution_count": 2,
   "metadata": {},
   "outputs": [],
   "source": [
    "#config\n",
    "pd.set_option('max_rows', 5)\n",
    "%matplotlib inline\n",
    "plt.rcParams['figure.figsize'] = 8, 4"
   ]
  },
  {
   "cell_type": "code",
   "execution_count": 3,
   "metadata": {},
   "outputs": [
    {
     "data": {
      "text/html": [
       "<div>\n",
       "<style scoped>\n",
       "    .dataframe tbody tr th:only-of-type {\n",
       "        vertical-align: middle;\n",
       "    }\n",
       "\n",
       "    .dataframe tbody tr th {\n",
       "        vertical-align: top;\n",
       "    }\n",
       "\n",
       "    .dataframe thead th {\n",
       "        text-align: right;\n",
       "    }\n",
       "</style>\n",
       "<table border=\"1\" class=\"dataframe\">\n",
       "  <thead>\n",
       "    <tr style=\"text-align: right;\">\n",
       "      <th></th>\n",
       "      <th>CityPopulation</th>\n",
       "      <th>TruckProfit</th>\n",
       "    </tr>\n",
       "  </thead>\n",
       "  <tbody>\n",
       "    <tr>\n",
       "      <th>0</th>\n",
       "      <td>6.1101</td>\n",
       "      <td>17.5920</td>\n",
       "    </tr>\n",
       "    <tr>\n",
       "      <th>1</th>\n",
       "      <td>5.5277</td>\n",
       "      <td>9.1302</td>\n",
       "    </tr>\n",
       "    <tr>\n",
       "      <th>2</th>\n",
       "      <td>8.5186</td>\n",
       "      <td>13.6620</td>\n",
       "    </tr>\n",
       "    <tr>\n",
       "      <th>3</th>\n",
       "      <td>7.0032</td>\n",
       "      <td>11.8540</td>\n",
       "    </tr>\n",
       "    <tr>\n",
       "      <th>4</th>\n",
       "      <td>5.8598</td>\n",
       "      <td>6.8233</td>\n",
       "    </tr>\n",
       "  </tbody>\n",
       "</table>\n",
       "</div>"
      ],
      "text/plain": [
       "   CityPopulation  TruckProfit\n",
       "0          6.1101      17.5920\n",
       "1          5.5277       9.1302\n",
       "2          8.5186      13.6620\n",
       "3          7.0032      11.8540\n",
       "4          5.8598       6.8233"
      ]
     },
     "execution_count": 3,
     "metadata": {},
     "output_type": "execute_result"
    }
   ],
   "source": [
    "#read file\n",
    "trucks = pd.read_csv('ex1data1.txt', \n",
    "                     names=['CityPopulation', 'TruckProfit'])\n",
    "trucks.head()"
   ]
  },
  {
   "cell_type": "code",
   "execution_count": 4,
   "metadata": {},
   "outputs": [
    {
     "name": "stdout",
     "output_type": "stream",
     "text": [
      "<class 'pandas.core.frame.DataFrame'>\n",
      "RangeIndex: 97 entries, 0 to 96\n",
      "Data columns (total 2 columns):\n",
      "CityPopulation    97 non-null float64\n",
      "TruckProfit       97 non-null float64\n",
      "dtypes: float64(2)\n",
      "memory usage: 1.6 KB\n"
     ]
    }
   ],
   "source": [
    "trucks.info()"
   ]
  },
  {
   "cell_type": "code",
   "execution_count": 5,
   "metadata": {},
   "outputs": [
    {
     "data": {
      "text/html": [
       "<div>\n",
       "<style scoped>\n",
       "    .dataframe tbody tr th:only-of-type {\n",
       "        vertical-align: middle;\n",
       "    }\n",
       "\n",
       "    .dataframe tbody tr th {\n",
       "        vertical-align: top;\n",
       "    }\n",
       "\n",
       "    .dataframe thead th {\n",
       "        text-align: right;\n",
       "    }\n",
       "</style>\n",
       "<table border=\"1\" class=\"dataframe\">\n",
       "  <thead>\n",
       "    <tr style=\"text-align: right;\">\n",
       "      <th></th>\n",
       "      <th>CityPopulation</th>\n",
       "      <th>TruckProfit</th>\n",
       "    </tr>\n",
       "  </thead>\n",
       "  <tbody>\n",
       "    <tr>\n",
       "      <th>count</th>\n",
       "      <td>97.0000</td>\n",
       "      <td>97.000000</td>\n",
       "    </tr>\n",
       "    <tr>\n",
       "      <th>mean</th>\n",
       "      <td>8.1598</td>\n",
       "      <td>5.839135</td>\n",
       "    </tr>\n",
       "    <tr>\n",
       "      <th>...</th>\n",
       "      <td>...</td>\n",
       "      <td>...</td>\n",
       "    </tr>\n",
       "    <tr>\n",
       "      <th>75%</th>\n",
       "      <td>8.5781</td>\n",
       "      <td>7.046700</td>\n",
       "    </tr>\n",
       "    <tr>\n",
       "      <th>max</th>\n",
       "      <td>22.2030</td>\n",
       "      <td>24.147000</td>\n",
       "    </tr>\n",
       "  </tbody>\n",
       "</table>\n",
       "<p>8 rows × 2 columns</p>\n",
       "</div>"
      ],
      "text/plain": [
       "       CityPopulation  TruckProfit\n",
       "count         97.0000    97.000000\n",
       "mean           8.1598     5.839135\n",
       "...               ...          ...\n",
       "75%            8.5781     7.046700\n",
       "max           22.2030    24.147000\n",
       "\n",
       "[8 rows x 2 columns]"
      ]
     },
     "execution_count": 5,
     "metadata": {},
     "output_type": "execute_result"
    }
   ],
   "source": [
    "trucks.describe()"
   ]
  },
  {
   "cell_type": "code",
   "execution_count": 6,
   "metadata": {},
   "outputs": [
    {
     "data": {
      "image/png": "[encoded data removed]",
      "text/plain": [
       "<Figure size 576x288 with 1 Axes>"
      ]
     },
     "metadata": {
      "needs_background": "light"
     },
     "output_type": "display_data"
    }
   ],
   "source": [
    "#draw the data\n",
    "plt.scatter(data=trucks, \n",
    "            x='CityPopulation', y='TruckProfit',\n",
    "            marker='x', color='red')\n",
    "plt.xlabel('City Population ')\n",
    "plt.ylabel('Food truck profit in a city')\n",
    "plt.show()"
   ]
  },
  {
   "cell_type": "code",
   "execution_count": 7,
   "metadata": {},
   "outputs": [
    {
     "data": {
      "text/plain": [
       "0      6.1101\n",
       "1      5.5277\n",
       "       ...   \n",
       "95    13.3940\n",
       "96     5.4369\n",
       "Name: CityPopulation, Length: 97, dtype: float64"
      ]
     },
     "execution_count": 7,
     "metadata": {},
     "output_type": "execute_result"
    }
   ],
   "source": [
    "X = trucks.iloc[:,0]\n",
    "X"
   ]
  },
  {
   "cell_type": "code",
   "execution_count": 8,
   "metadata": {
    "scrolled": true
   },
   "outputs": [
    {
     "data": {
      "text/plain": [
       "array([[ 6.1101],\n",
       "       [ 5.5277],\n",
       "       [ 8.5186],\n",
       "       [ 7.0032],\n",
       "       [ 5.8598],\n",
       "       [ 8.3829],\n",
       "       [ 7.4764],\n",
       "       [ 8.5781],\n",
       "       [ 6.4862],\n",
       "       [ 5.0546],\n",
       "       [ 5.7107],\n",
       "       [14.164 ],\n",
       "       [ 5.734 ],\n",
       "       [ 8.4084],\n",
       "       [ 5.6407],\n",
       "       [ 5.3794],\n",
       "       [ 6.3654],\n",
       "       [ 5.1301],\n",
       "       [ 6.4296],\n",
       "       [ 7.0708],\n",
       "       [ 6.1891],\n",
       "       [20.27  ],\n",
       "       [ 5.4901],\n",
       "       [ 6.3261],\n",
       "       [ 5.5649],\n",
       "       [18.945 ],\n",
       "       [12.828 ],\n",
       "       [10.957 ],\n",
       "       [13.176 ],\n",
       "       [22.203 ],\n",
       "       [ 5.2524],\n",
       "       [ 6.5894],\n",
       "       [ 9.2482],\n",
       "       [ 5.8918],\n",
       "       [ 8.2111],\n",
       "       [ 7.9334],\n",
       "       [ 8.0959],\n",
       "       [ 5.6063],\n",
       "       [12.836 ],\n",
       "       [ 6.3534],\n",
       "       [ 5.4069],\n",
       "       [ 6.8825],\n",
       "       [11.708 ],\n",
       "       [ 5.7737],\n",
       "       [ 7.8247],\n",
       "       [ 7.0931],\n",
       "       [ 5.0702],\n",
       "       [ 5.8014],\n",
       "       [11.7   ],\n",
       "       [ 5.5416],\n",
       "       [ 7.5402],\n",
       "       [ 5.3077],\n",
       "       [ 7.4239],\n",
       "       [ 7.6031],\n",
       "       [ 6.3328],\n",
       "       [ 6.3589],\n",
       "       [ 6.2742],\n",
       "       [ 5.6397],\n",
       "       [ 9.3102],\n",
       "       [ 9.4536],\n",
       "       [ 8.8254],\n",
       "       [ 5.1793],\n",
       "       [21.279 ],\n",
       "       [14.908 ],\n",
       "       [18.959 ],\n",
       "       [ 7.2182],\n",
       "       [ 8.2951],\n",
       "       [10.236 ],\n",
       "       [ 5.4994],\n",
       "       [20.341 ],\n",
       "       [10.136 ],\n",
       "       [ 7.3345],\n",
       "       [ 6.0062],\n",
       "       [ 7.2259],\n",
       "       [ 5.0269],\n",
       "       [ 6.5479],\n",
       "       [ 7.5386],\n",
       "       [ 5.0365],\n",
       "       [10.274 ],\n",
       "       [ 5.1077],\n",
       "       [ 5.7292],\n",
       "       [ 5.1884],\n",
       "       [ 6.3557],\n",
       "       [ 9.7687],\n",
       "       [ 6.5159],\n",
       "       [ 8.5172],\n",
       "       [ 9.1802],\n",
       "       [ 6.002 ],\n",
       "       [ 5.5204],\n",
       "       [ 5.0594],\n",
       "       [ 5.7077],\n",
       "       [ 7.6366],\n",
       "       [ 5.8707],\n",
       "       [ 5.3054],\n",
       "       [ 8.2934],\n",
       "       [13.394 ],\n",
       "       [ 5.4369]])"
      ]
     },
     "execution_count": 8,
     "metadata": {},
     "output_type": "execute_result"
    }
   ],
   "source": [
    "X = X[:,np.newaxis]\n",
    "X"
   ]
  },
  {
   "cell_type": "code",
   "execution_count": 9,
   "metadata": {},
   "outputs": [
    {
     "data": {
      "text/plain": [
       "0     17.59200\n",
       "1      9.13020\n",
       "        ...   \n",
       "95     9.05510\n",
       "96     0.61705\n",
       "Name: TruckProfit, Length: 97, dtype: float64"
      ]
     },
     "execution_count": 9,
     "metadata": {},
     "output_type": "execute_result"
    }
   ],
   "source": [
    "y = trucks.iloc[:,1]\n",
    "y"
   ]
  },
  {
   "cell_type": "code",
   "execution_count": 10,
   "metadata": {},
   "outputs": [
    {
     "data": {
      "text/plain": [
       "array([[17.592  ],\n",
       "       [ 9.1302 ],\n",
       "       [13.662  ],\n",
       "       [11.854  ],\n",
       "       [ 6.8233 ],\n",
       "       [11.886  ],\n",
       "       [ 4.3483 ],\n",
       "       [12.     ],\n",
       "       [ 6.5987 ],\n",
       "       [ 3.8166 ],\n",
       "       [ 3.2522 ],\n",
       "       [15.505  ],\n",
       "       [ 3.1551 ],\n",
       "       [ 7.2258 ],\n",
       "       [ 0.71618],\n",
       "       [ 3.5129 ],\n",
       "       [ 5.3048 ],\n",
       "       [ 0.56077],\n",
       "       [ 3.6518 ],\n",
       "       [ 5.3893 ],\n",
       "       [ 3.1386 ],\n",
       "       [21.767  ],\n",
       "       [ 4.263  ],\n",
       "       [ 5.1875 ],\n",
       "       [ 3.0825 ],\n",
       "       [22.638  ],\n",
       "       [13.501  ],\n",
       "       [ 7.0467 ],\n",
       "       [14.692  ],\n",
       "       [24.147  ],\n",
       "       [-1.22   ],\n",
       "       [ 5.9966 ],\n",
       "       [12.134  ],\n",
       "       [ 1.8495 ],\n",
       "       [ 6.5426 ],\n",
       "       [ 4.5623 ],\n",
       "       [ 4.1164 ],\n",
       "       [ 3.3928 ],\n",
       "       [10.117  ],\n",
       "       [ 5.4974 ],\n",
       "       [ 0.55657],\n",
       "       [ 3.9115 ],\n",
       "       [ 5.3854 ],\n",
       "       [ 2.4406 ],\n",
       "       [ 6.7318 ],\n",
       "       [ 1.0463 ],\n",
       "       [ 5.1337 ],\n",
       "       [ 1.844  ],\n",
       "       [ 8.0043 ],\n",
       "       [ 1.0179 ],\n",
       "       [ 6.7504 ],\n",
       "       [ 1.8396 ],\n",
       "       [ 4.2885 ],\n",
       "       [ 4.9981 ],\n",
       "       [ 1.4233 ],\n",
       "       [-1.4211 ],\n",
       "       [ 2.4756 ],\n",
       "       [ 4.6042 ],\n",
       "       [ 3.9624 ],\n",
       "       [ 5.4141 ],\n",
       "       [ 5.1694 ],\n",
       "       [-0.74279],\n",
       "       [17.929  ],\n",
       "       [12.054  ],\n",
       "       [17.054  ],\n",
       "       [ 4.8852 ],\n",
       "       [ 5.7442 ],\n",
       "       [ 7.7754 ],\n",
       "       [ 1.0173 ],\n",
       "       [20.992  ],\n",
       "       [ 6.6799 ],\n",
       "       [ 4.0259 ],\n",
       "       [ 1.2784 ],\n",
       "       [ 3.3411 ],\n",
       "       [-2.6807 ],\n",
       "       [ 0.29678],\n",
       "       [ 3.8845 ],\n",
       "       [ 5.7014 ],\n",
       "       [ 6.7526 ],\n",
       "       [ 2.0576 ],\n",
       "       [ 0.47953],\n",
       "       [ 0.20421],\n",
       "       [ 0.67861],\n",
       "       [ 7.5435 ],\n",
       "       [ 5.3436 ],\n",
       "       [ 4.2415 ],\n",
       "       [ 6.7981 ],\n",
       "       [ 0.92695],\n",
       "       [ 0.152  ],\n",
       "       [ 2.8214 ],\n",
       "       [ 1.8451 ],\n",
       "       [ 4.2959 ],\n",
       "       [ 7.2029 ],\n",
       "       [ 1.9869 ],\n",
       "       [ 0.14454],\n",
       "       [ 9.0551 ],\n",
       "       [ 0.61705]])"
      ]
     },
     "execution_count": 10,
     "metadata": {},
     "output_type": "execute_result"
    }
   ],
   "source": [
    "y = y[:, np.newaxis]\n",
    "y"
   ]
  },
  {
   "cell_type": "code",
   "execution_count": 11,
   "metadata": {
    "scrolled": true
   },
   "outputs": [
    {
     "data": {
      "text/plain": [
       "array([[0.],\n",
       "       [0.]])"
      ]
     },
     "execution_count": 11,
     "metadata": {},
     "output_type": "execute_result"
    }
   ],
   "source": [
    "#prepare data\n",
    "alpha = 0.01 #learning rate\n",
    "iterations = 1500\n",
    "m = len(y) #97\n",
    "theta = np.zeros([2, 1])\n",
    "theta"
   ]
  },
  {
   "cell_type": "code",
   "execution_count": 12,
   "metadata": {},
   "outputs": [
    {
     "data": {
      "text/plain": [
       "array([[1.],\n",
       "       [1.],\n",
       "       [1.],\n",
       "       [1.],\n",
       "       [1.],\n",
       "       [1.],\n",
       "       [1.],\n",
       "       [1.],\n",
       "       [1.],\n",
       "       [1.],\n",
       "       [1.],\n",
       "       [1.],\n",
       "       [1.],\n",
       "       [1.],\n",
       "       [1.],\n",
       "       [1.],\n",
       "       [1.],\n",
       "       [1.],\n",
       "       [1.],\n",
       "       [1.],\n",
       "       [1.],\n",
       "       [1.],\n",
       "       [1.],\n",
       "       [1.],\n",
       "       [1.],\n",
       "       [1.],\n",
       "       [1.],\n",
       "       [1.],\n",
       "       [1.],\n",
       "       [1.],\n",
       "       [1.],\n",
       "       [1.],\n",
       "       [1.],\n",
       "       [1.],\n",
       "       [1.],\n",
       "       [1.],\n",
       "       [1.],\n",
       "       [1.],\n",
       "       [1.],\n",
       "       [1.],\n",
       "       [1.],\n",
       "       [1.],\n",
       "       [1.],\n",
       "       [1.],\n",
       "       [1.],\n",
       "       [1.],\n",
       "       [1.],\n",
       "       [1.],\n",
       "       [1.],\n",
       "       [1.],\n",
       "       [1.],\n",
       "       [1.],\n",
       "       [1.],\n",
       "       [1.],\n",
       "       [1.],\n",
       "       [1.],\n",
       "       [1.],\n",
       "       [1.],\n",
       "       [1.],\n",
       "       [1.],\n",
       "       [1.],\n",
       "       [1.],\n",
       "       [1.],\n",
       "       [1.],\n",
       "       [1.],\n",
       "       [1.],\n",
       "       [1.],\n",
       "       [1.],\n",
       "       [1.],\n",
       "       [1.],\n",
       "       [1.],\n",
       "       [1.],\n",
       "       [1.],\n",
       "       [1.],\n",
       "       [1.],\n",
       "       [1.],\n",
       "       [1.],\n",
       "       [1.],\n",
       "       [1.],\n",
       "       [1.],\n",
       "       [1.],\n",
       "       [1.],\n",
       "       [1.],\n",
       "       [1.],\n",
       "       [1.],\n",
       "       [1.],\n",
       "       [1.],\n",
       "       [1.],\n",
       "       [1.],\n",
       "       [1.],\n",
       "       [1.],\n",
       "       [1.],\n",
       "       [1.],\n",
       "       [1.],\n",
       "       [1.],\n",
       "       [1.],\n",
       "       [1.]])"
      ]
     },
     "execution_count": 12,
     "metadata": {},
     "output_type": "execute_result"
    }
   ],
   "source": [
    "ones = np.ones((m,1))\n",
    "ones"
   ]
  },
  {
   "cell_type": "code",
   "execution_count": 13,
   "metadata": {},
   "outputs": [
    {
     "data": {
      "text/plain": [
       "array([[ 1.    ,  6.1101],\n",
       "       [ 1.    ,  5.5277],\n",
       "       [ 1.    ,  8.5186],\n",
       "       [ 1.    ,  7.0032],\n",
       "       [ 1.    ,  5.8598],\n",
       "       [ 1.    ,  8.3829],\n",
       "       [ 1.    ,  7.4764],\n",
       "       [ 1.    ,  8.5781],\n",
       "       [ 1.    ,  6.4862],\n",
       "       [ 1.    ,  5.0546],\n",
       "       [ 1.    ,  5.7107],\n",
       "       [ 1.    , 14.164 ],\n",
       "       [ 1.    ,  5.734 ],\n",
       "       [ 1.    ,  8.4084],\n",
       "       [ 1.    ,  5.6407],\n",
       "       [ 1.    ,  5.3794],\n",
       "       [ 1.    ,  6.3654],\n",
       "       [ 1.    ,  5.1301],\n",
       "       [ 1.    ,  6.4296],\n",
       "       [ 1.    ,  7.0708],\n",
       "       [ 1.    ,  6.1891],\n",
       "       [ 1.    , 20.27  ],\n",
       "       [ 1.    ,  5.4901],\n",
       "       [ 1.    ,  6.3261],\n",
       "       [ 1.    ,  5.5649],\n",
       "       [ 1.    , 18.945 ],\n",
       "       [ 1.    , 12.828 ],\n",
       "       [ 1.    , 10.957 ],\n",
       "       [ 1.    , 13.176 ],\n",
       "       [ 1.    , 22.203 ],\n",
       "       [ 1.    ,  5.2524],\n",
       "       [ 1.    ,  6.5894],\n",
       "       [ 1.    ,  9.2482],\n",
       "       [ 1.    ,  5.8918],\n",
       "       [ 1.    ,  8.2111],\n",
       "       [ 1.    ,  7.9334],\n",
       "       [ 1.    ,  8.0959],\n",
       "       [ 1.    ,  5.6063],\n",
       "       [ 1.    , 12.836 ],\n",
       "       [ 1.    ,  6.3534],\n",
       "       [ 1.    ,  5.4069],\n",
       "       [ 1.    ,  6.8825],\n",
       "       [ 1.    , 11.708 ],\n",
       "       [ 1.    ,  5.7737],\n",
       "       [ 1.    ,  7.8247],\n",
       "       [ 1.    ,  7.0931],\n",
       "       [ 1.    ,  5.0702],\n",
       "       [ 1.    ,  5.8014],\n",
       "       [ 1.    , 11.7   ],\n",
       "       [ 1.    ,  5.5416],\n",
       "       [ 1.    ,  7.5402],\n",
       "       [ 1.    ,  5.3077],\n",
       "       [ 1.    ,  7.4239],\n",
       "       [ 1.    ,  7.6031],\n",
       "       [ 1.    ,  6.3328],\n",
       "       [ 1.    ,  6.3589],\n",
       "       [ 1.    ,  6.2742],\n",
       "       [ 1.    ,  5.6397],\n",
       "       [ 1.    ,  9.3102],\n",
       "       [ 1.    ,  9.4536],\n",
       "       [ 1.    ,  8.8254],\n",
       "       [ 1.    ,  5.1793],\n",
       "       [ 1.    , 21.279 ],\n",
       "       [ 1.    , 14.908 ],\n",
       "       [ 1.    , 18.959 ],\n",
       "       [ 1.    ,  7.2182],\n",
       "       [ 1.    ,  8.2951],\n",
       "       [ 1.    , 10.236 ],\n",
       "       [ 1.    ,  5.4994],\n",
       "       [ 1.    , 20.341 ],\n",
       "       [ 1.    , 10.136 ],\n",
       "       [ 1.    ,  7.3345],\n",
       "       [ 1.    ,  6.0062],\n",
       "       [ 1.    ,  7.2259],\n",
       "       [ 1.    ,  5.0269],\n",
       "       [ 1.    ,  6.5479],\n",
       "       [ 1.    ,  7.5386],\n",
       "       [ 1.    ,  5.0365],\n",
       "       [ 1.    , 10.274 ],\n",
       "       [ 1.    ,  5.1077],\n",
       "       [ 1.    ,  5.7292],\n",
       "       [ 1.    ,  5.1884],\n",
       "       [ 1.    ,  6.3557],\n",
       "       [ 1.    ,  9.7687],\n",
       "       [ 1.    ,  6.5159],\n",
       "       [ 1.    ,  8.5172],\n",
       "       [ 1.    ,  9.1802],\n",
       "       [ 1.    ,  6.002 ],\n",
       "       [ 1.    ,  5.5204],\n",
       "       [ 1.    ,  5.0594],\n",
       "       [ 1.    ,  5.7077],\n",
       "       [ 1.    ,  7.6366],\n",
       "       [ 1.    ,  5.8707],\n",
       "       [ 1.    ,  5.3054],\n",
       "       [ 1.    ,  8.2934],\n",
       "       [ 1.    , 13.394 ],\n",
       "       [ 1.    ,  5.4369]])"
      ]
     },
     "execution_count": 13,
     "metadata": {},
     "output_type": "execute_result"
    }
   ],
   "source": [
    "# adding the intercept term (ones in first column)\n",
    "X = np.hstack((ones, X))\n",
    "X"
   ]
  },
  {
   "cell_type": "code",
   "execution_count": 14,
   "metadata": {},
   "outputs": [],
   "source": [
    "def costFunction(X, y, theta):\n",
    "    temp = np.dot(X, theta) - y\n",
    "    return np.sum(np.power(temp, 2)) / (2*m)"
   ]
  },
  {
   "cell_type": "code",
   "execution_count": 15,
   "metadata": {},
   "outputs": [
    {
     "data": {
      "text/plain": [
       "32.07"
      ]
     },
     "execution_count": 15,
     "metadata": {},
     "output_type": "execute_result"
    }
   ],
   "source": [
    "#expected cost value 32.07\n",
    "J = np.around(costFunction(X, y, theta), 2)\n",
    "J"
   ]
  },
  {
   "cell_type": "code",
   "execution_count": 28,
   "metadata": {},
   "outputs": [],
   "source": [
    "#Gradient descent\n",
    "def gradientDescent(X, y, theta, alpha, iterations):\n",
    "    for _ in range(0, iterations):\n",
    "        temp = np.dot(X, theta) - y\n",
    "        temp2 = np.dot(X.T, temp)\n",
    "        theta = theta - alpha / m * temp2\n",
    "    return theta"
   ]
  },
  {
   "cell_type": "code",
   "execution_count": 29,
   "metadata": {},
   "outputs": [
    {
     "data": {
      "text/plain": [
       "array([[-3.63029144],\n",
       "       [ 1.16636235]])"
      ]
     },
     "execution_count": 29,
     "metadata": {},
     "output_type": "execute_result"
    }
   ],
   "source": [
    "new_theta = gradientDescent(X, y, theta, alpha, iterations)\n",
    "new_theta"
   ]
  },
  {
   "cell_type": "code",
   "execution_count": 32,
   "metadata": {},
   "outputs": [
    {
     "data": {
      "text/plain": [
       "4.483"
      ]
     },
     "execution_count": 32,
     "metadata": {},
     "output_type": "execute_result"
    }
   ],
   "source": [
    "new_J = np.around(costFunction(X, y, new_theta), 3)\n",
    "new_J"
   ]
  },
  {
   "cell_type": "code",
   "execution_count": 34,
   "metadata": {},
   "outputs": [
    {
     "data": {
      "image/png": "[encoded data removed]",
      "text/plain": [
       "<Figure size 576x288 with 1 Axes>"
      ]
     },
     "metadata": {
      "needs_background": "light"
     },
     "output_type": "display_data"
    }
   ],
   "source": [
    "#draw the data and best fit\n",
    "plt.scatter(data=trucks, \n",
    "            x='CityPopulation', y='TruckProfit',\n",
    "            marker='x', color='red')\n",
    "plt.plot(X[:,1], np.dot(X, new_theta))\n",
    "plt.xlabel('City Population ')\n",
    "plt.ylabel('Food truck profit in a city')\n",
    "plt.show()"
   ]
  },
  {
   "cell_type": "code",
   "execution_count": 35,
   "metadata": {},
   "outputs": [],
   "source": [
    "#---------------"
   ]
  },
  {
   "cell_type": "code",
   "execution_count": null,
   "metadata": {},
   "outputs": [],
   "source": [
    "#multivariate \n"
   ]
  }
 ],
 "metadata": {
  "kernelspec": {
   "display_name": "Python 3",
   "language": "python",
   "name": "python3"
  },
  "language_info": {
   "codemirror_mode": {
    "name": "ipython",
    "version": 3
   },
   "file_extension": ".py",
   "mimetype": "text/x-python",
   "name": "python",
   "nbconvert_exporter": "python",
   "pygments_lexer": "ipython3",
   "version": "3.7.0"
  }
 },
 "nbformat": 4,
 "nbformat_minor": 2
}
